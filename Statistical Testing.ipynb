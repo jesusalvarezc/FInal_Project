{
 "cells": [
  {
   "cell_type": "code",
   "execution_count": 1,
   "metadata": {
    "collapsed": true
   },
   "outputs": [],
   "source": [
    "import data as dt"
   ]
  },
  {
   "cell_type": "code",
   "execution_count": 2,
   "outputs": [],
   "source": [
    "data = dt.f_leer_archivos_varios(\"MXNUSD_2018.xlsx\", \"MXNUSD_2019.xlsx\", \"MXNUSD_2020.xlsx\")"
   ],
   "metadata": {
    "collapsed": false,
    "pycharm": {
     "name": "#%%\n"
    }
   }
  },
  {
   "cell_type": "code",
   "execution_count": 3,
   "outputs": [
    {
     "data": {
      "text/plain": "                 timestamp     open     high      low    close  volume\n0      2018-01-01 18:00:00  0.04239  0.04239  0.04238  0.04238      61\n1      2018-01-01 18:01:00  0.04239  0.04239  0.04239  0.04239      22\n2      2018-01-01 18:05:00  0.04239  0.04239  0.04239  0.04239      20\n3      2018-01-01 18:07:00  0.04240  0.04240  0.04239  0.04239      12\n4      2018-01-01 18:08:00  0.04239  0.04239  0.04238  0.04238      20\n...                    ...      ...      ...      ...      ...     ...\n263922 2020-12-31 16:52:00  0.04993  0.04994  0.04993  0.04993      23\n263923 2020-12-31 16:53:00  0.04993  0.04993  0.04993  0.04993       1\n263924 2020-12-31 16:54:00  0.04993  0.04995  0.04993  0.04995      16\n263925 2020-12-31 16:57:00  0.04994  0.04995  0.04993  0.04993      95\n263926 2020-12-31 16:59:00  0.04992  0.04994  0.04992  0.04992      15\n\n[735949 rows x 6 columns]",
      "text/html": "<div>\n<style scoped>\n    .dataframe tbody tr th:only-of-type {\n        vertical-align: middle;\n    }\n\n    .dataframe tbody tr th {\n        vertical-align: top;\n    }\n\n    .dataframe thead th {\n        text-align: right;\n    }\n</style>\n<table border=\"1\" class=\"dataframe\">\n  <thead>\n    <tr style=\"text-align: right;\">\n      <th></th>\n      <th>timestamp</th>\n      <th>open</th>\n      <th>high</th>\n      <th>low</th>\n      <th>close</th>\n      <th>volume</th>\n    </tr>\n  </thead>\n  <tbody>\n    <tr>\n      <th>0</th>\n      <td>2018-01-01 18:00:00</td>\n      <td>0.04239</td>\n      <td>0.04239</td>\n      <td>0.04238</td>\n      <td>0.04238</td>\n      <td>61</td>\n    </tr>\n    <tr>\n      <th>1</th>\n      <td>2018-01-01 18:01:00</td>\n      <td>0.04239</td>\n      <td>0.04239</td>\n      <td>0.04239</td>\n      <td>0.04239</td>\n      <td>22</td>\n    </tr>\n    <tr>\n      <th>2</th>\n      <td>2018-01-01 18:05:00</td>\n      <td>0.04239</td>\n      <td>0.04239</td>\n      <td>0.04239</td>\n      <td>0.04239</td>\n      <td>20</td>\n    </tr>\n    <tr>\n      <th>3</th>\n      <td>2018-01-01 18:07:00</td>\n      <td>0.04240</td>\n      <td>0.04240</td>\n      <td>0.04239</td>\n      <td>0.04239</td>\n      <td>12</td>\n    </tr>\n    <tr>\n      <th>4</th>\n      <td>2018-01-01 18:08:00</td>\n      <td>0.04239</td>\n      <td>0.04239</td>\n      <td>0.04238</td>\n      <td>0.04238</td>\n      <td>20</td>\n    </tr>\n    <tr>\n      <th>...</th>\n      <td>...</td>\n      <td>...</td>\n      <td>...</td>\n      <td>...</td>\n      <td>...</td>\n      <td>...</td>\n    </tr>\n    <tr>\n      <th>263922</th>\n      <td>2020-12-31 16:52:00</td>\n      <td>0.04993</td>\n      <td>0.04994</td>\n      <td>0.04993</td>\n      <td>0.04993</td>\n      <td>23</td>\n    </tr>\n    <tr>\n      <th>263923</th>\n      <td>2020-12-31 16:53:00</td>\n      <td>0.04993</td>\n      <td>0.04993</td>\n      <td>0.04993</td>\n      <td>0.04993</td>\n      <td>1</td>\n    </tr>\n    <tr>\n      <th>263924</th>\n      <td>2020-12-31 16:54:00</td>\n      <td>0.04993</td>\n      <td>0.04995</td>\n      <td>0.04993</td>\n      <td>0.04995</td>\n      <td>16</td>\n    </tr>\n    <tr>\n      <th>263925</th>\n      <td>2020-12-31 16:57:00</td>\n      <td>0.04994</td>\n      <td>0.04995</td>\n      <td>0.04993</td>\n      <td>0.04993</td>\n      <td>95</td>\n    </tr>\n    <tr>\n      <th>263926</th>\n      <td>2020-12-31 16:59:00</td>\n      <td>0.04992</td>\n      <td>0.04994</td>\n      <td>0.04992</td>\n      <td>0.04992</td>\n      <td>15</td>\n    </tr>\n  </tbody>\n</table>\n<p>735949 rows × 6 columns</p>\n</div>"
     },
     "execution_count": 3,
     "metadata": {},
     "output_type": "execute_result"
    }
   ],
   "source": [
    "data"
   ],
   "metadata": {
    "collapsed": false,
    "pycharm": {
     "name": "#%%\n"
    }
   }
  },
  {
   "cell_type": "code",
   "execution_count": null,
   "outputs": [],
   "source": [],
   "metadata": {
    "collapsed": false,
    "pycharm": {
     "name": "#%%\n"
    }
   }
  }
 ],
 "metadata": {
  "kernelspec": {
   "display_name": "Python 3",
   "language": "python",
   "name": "python3"
  },
  "language_info": {
   "codemirror_mode": {
    "name": "ipython",
    "version": 2
   },
   "file_extension": ".py",
   "mimetype": "text/x-python",
   "name": "python",
   "nbconvert_exporter": "python",
   "pygments_lexer": "ipython2",
   "version": "2.7.6"
  }
 },
 "nbformat": 4,
 "nbformat_minor": 0
}
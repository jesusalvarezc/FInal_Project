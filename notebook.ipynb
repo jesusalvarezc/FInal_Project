{
 "cells": [
  {
   "cell_type": "markdown",
   "metadata": {},
   "source": [
    "<center> <img src=\"http://oci02.img.iteso.mx/identidad_de_instancia_2018/ITESO/Logos%20ITESO/Logo-ITESO-Principal.jpg\" align=\"center\" width=\"960\" height=\"480\"/> </center>"
   ]
  },
  {
   "cell_type": "markdown",
   "metadata": {},
   "source": [
    "<center><font color=#555555><font size=6> MAF1731 - Microstructure and Trading Systems </font> <br> <br>\n",
    "    \n",
    "<center><font color=#555555><font size=5> B.Eng Financial Engineering </font> <br> <br> <br> <br>\n",
    "\n",
    "<center><font color=#6495ED><font size=3> I.F. Jesús Álvarez Castellanos  </font> <br> <br>\n",
    "    \n",
    "<center><font color=#6495ED><font size=3> I.F. Rodolfo Slay Ramos  </font> <br> <br>\n",
    "    \n",
    "<center><font color=#6495ED><font size=3> I.F. Esther Itzel Sanromán Santana  </font> <br> <br>\n",
    "   \n",
    "<center> <font color= #555555> <font size = 4> Jun 2021 </a> | <font color= #555555> <font size = 4> Repository: <a href='hhttps://github.com/jesusalvarezc/FInal_Project'>Link</a></font>"
   ]
  },
  {
   "cell_type": "markdown",
   "metadata": {},
   "source": [
    "<hr style=\"border:0.01in solid #FF8C90\"> </hr>"
   ]
  },
  {
   "cell_type": "markdown",
   "metadata": {},
   "source": [
    "<center> <font color= #1A5276> <font size = 8> Proyecto final </font> <br> <br> <font color= #1A5276> <font size = 5> Análisis fundamental del indicador Trade Balance  </font>"
   ]
  },
  {
   "cell_type": "markdown",
   "metadata": {},
   "source": [
    "<hr style=\"border:0.01in solid #FF8C00\"> </hr>"
   ]
  },
  {
   "cell_type": "markdown",
   "metadata": {},
   "source": [
    "<br>"
   ]
  },
  {
   "cell_type": "markdown",
   "metadata": {},
   "source": [
    "<font color= #555555> <font size = 4> Abstract </font>"
   ]
  },
  {
   "cell_type": "markdown",
   "metadata": {},
   "source": [
    "<font color= #6B6B6B> <font size = 3>  Este laboratorio fue elaborado por Jesús Álvarez Castellanos, Rodolfo Slay Ramos e Itzel Sanromán Santana, es un trabajo hecho para la materia de Microestructura y Sistemas de Trading, la cual forma parte del curriculum de la licenciatura en Ingeniería Financiera en el ITESO. El propósito de este proyecto es analizar el comportamiento del MXN_USD durante el comunicado del indicador Trade Balance de la economía USA, este proyecto se divide en 3 secciones, aspectos financieros como volumen, takeprofit, stoploss; aspectos estadísticos como prueba de componente de autocorrelación y autocorrelación parcial, prueba de heterocedasticidad, prueba de normalidad y prueba de estacionalidad; y aspectos computacionales como el cálculo de 4 métricas basadas en 4 escenarios diferentes. </font>"
   ]
  },
  {
   "cell_type": "markdown",
   "metadata": {},
   "source": [
    "<br>"
   ]
  },
  {
   "cell_type": "markdown",
   "metadata": {},
   "source": [
    "# <font color= darkblue> 1. Introduction </font>"
   ]
  },
  {
   "cell_type": "markdown",
   "metadata": {},
   "source": [
    "<hr style=\"border:0.01in solid #FF8C00\"> </hr>"
   ]
  },
  {
   "cell_type": "markdown",
   "metadata": {},
   "source": [
    "This is an introduction, normally, it is done at the very end, when all the other content in the notebook is completed but just before the abstract (which is short version of the introduction) ... "
   ]
  },
  {
   "cell_type": "markdown",
   "metadata": {},
   "source": [
    "# <font color= darkblue> 2. Install/Load Packages and Depedencies </font>"
   ]
  },
  {
   "cell_type": "markdown",
   "metadata": {},
   "source": [
    "<hr style=\"border:0.01in solid #FF8C00\"> </hr>"
   ]
  },
  {
   "cell_type": "markdown",
   "metadata": {},
   "source": [
    "## <font color= #7FB3D5 > 2.2 Python Packages </font>"
   ]
  },
  {
   "cell_type": "markdown",
   "metadata": {},
   "source": [
    "In order to run this notebook, it is necessary to have installed and/or have the _requirements.txt_ file with the following: "
   ]
  },
  {
   "cell_type": "markdown",
   "metadata": {},
   "source": [
    "- pandas>=1.1.1 \n",
    "- numpy>=1.19.1\n",
    "- jupyter>=1.0.0\n",
    "- chart_studio>=1.1\n",
    "- plotly>=4.14"
   ]
  },
  {
   "cell_type": "markdown",
   "metadata": {},
   "source": [
    "## <font color= #7FB3D5> 2.3 Files Dependencies </font>"
   ]
  },
  {
   "cell_type": "markdown",
   "metadata": {},
   "source": [
    "The following are the file dependencies that are needed to run this notebook:"
   ]
  },
  {
   "cell_type": "markdown",
   "metadata": {},
   "source": [
    "- files/MXNUSD_2018.xlxs: Precios por minuto MXNUSD.\n",
    "- files/MXNUSD_2019.xlxs: Precios por minuto MXNUSD.\n",
    "- files/MXNUSD_2020.xlxs: Precios por minuto MXNUSD.\n",
    "- files/Trade Balance - United States: Otros datos históricos"
   ]
  },
  {
   "cell_type": "markdown",
   "metadata": {},
   "source": [
    "## <font color= #7FB3D5> 2.3 Install Packages</font>"
   ]
  },
  {
   "cell_type": "code",
   "execution_count": 1,
   "metadata": {},
   "outputs": [],
   "source": [
    "%%capture\n",
    "\n",
    "# Install all the pip packages in the requirements.txt\n",
    "import sys\n",
    "!{sys.executable} -m pip install -r requirements.txt"
   ]
  },
  {
   "cell_type": "code",
   "execution_count": 2,
   "metadata": {},
   "outputs": [],
   "source": [
    "import data as dt\n",
    "import functions as fn\n",
    "import visualizations as vs"
   ]
  },
  {
   "cell_type": "markdown",
   "metadata": {},
   "source": [
    "# <font color= darkblue> 3. Data Description </font>"
   ]
  },
  {
   "cell_type": "markdown",
   "metadata": {},
   "source": [
    "<hr style=\"border:0.01in solid #FF8C00\"> </hr>"
   ]
  },
  {
   "cell_type": "code",
   "execution_count": 3,
   "metadata": {},
   "outputs": [
    {
     "data": {
      "text/html": [
       "<div>\n",
       "<style scoped>\n",
       "    .dataframe tbody tr th:only-of-type {\n",
       "        vertical-align: middle;\n",
       "    }\n",
       "\n",
       "    .dataframe tbody tr th {\n",
       "        vertical-align: top;\n",
       "    }\n",
       "\n",
       "    .dataframe thead th {\n",
       "        text-align: right;\n",
       "    }\n",
       "</style>\n",
       "<table border=\"1\" class=\"dataframe\">\n",
       "  <thead>\n",
       "    <tr style=\"text-align: right;\">\n",
       "      <th></th>\n",
       "      <th>DateTime</th>\n",
       "      <th>Actual</th>\n",
       "      <th>Consensus</th>\n",
       "      <th>Previous</th>\n",
       "      <th>Revised</th>\n",
       "    </tr>\n",
       "  </thead>\n",
       "  <tbody>\n",
       "    <tr>\n",
       "      <th>23</th>\n",
       "      <td>2018-03-07 13:30:00</td>\n",
       "      <td>-56.6</td>\n",
       "      <td>-55.1</td>\n",
       "      <td>-53.1</td>\n",
       "      <td>-53.9</td>\n",
       "    </tr>\n",
       "    <tr>\n",
       "      <th>22</th>\n",
       "      <td>2018-04-05 12:30:00</td>\n",
       "      <td>-57.6</td>\n",
       "      <td>-56.8</td>\n",
       "      <td>-56.6</td>\n",
       "      <td>-56.7</td>\n",
       "    </tr>\n",
       "    <tr>\n",
       "      <th>21</th>\n",
       "      <td>2018-05-03 12:30:00</td>\n",
       "      <td>-49.0</td>\n",
       "      <td>-50.0</td>\n",
       "      <td>-57.6</td>\n",
       "      <td>-57.7</td>\n",
       "    </tr>\n",
       "    <tr>\n",
       "      <th>20</th>\n",
       "      <td>2018-06-06 12:30:00</td>\n",
       "      <td>-46.2</td>\n",
       "      <td>-49.0</td>\n",
       "      <td>-49.0</td>\n",
       "      <td>-47.2</td>\n",
       "    </tr>\n",
       "    <tr>\n",
       "      <th>19</th>\n",
       "      <td>2018-07-06 12:30:00</td>\n",
       "      <td>-43.1</td>\n",
       "      <td>-43.7</td>\n",
       "      <td>-46.2</td>\n",
       "      <td>-46.1</td>\n",
       "    </tr>\n",
       "    <tr>\n",
       "      <th>18</th>\n",
       "      <td>2018-08-03 12:30:00</td>\n",
       "      <td>-46.3</td>\n",
       "      <td>-46.5</td>\n",
       "      <td>-43.1</td>\n",
       "      <td>-43.2</td>\n",
       "    </tr>\n",
       "    <tr>\n",
       "      <th>17</th>\n",
       "      <td>2018-09-05 12:30:00</td>\n",
       "      <td>-50.1</td>\n",
       "      <td>-50.1</td>\n",
       "      <td>-46.3</td>\n",
       "      <td>-45.7</td>\n",
       "    </tr>\n",
       "    <tr>\n",
       "      <th>16</th>\n",
       "      <td>2018-10-05 12:30:00</td>\n",
       "      <td>-53.2</td>\n",
       "      <td>-53.5</td>\n",
       "      <td>-50.1</td>\n",
       "      <td>-50.0</td>\n",
       "    </tr>\n",
       "    <tr>\n",
       "      <th>15</th>\n",
       "      <td>2018-11-02 12:30:00</td>\n",
       "      <td>-54.0</td>\n",
       "      <td>-53.6</td>\n",
       "      <td>-53.2</td>\n",
       "      <td>-53.3</td>\n",
       "    </tr>\n",
       "    <tr>\n",
       "      <th>14</th>\n",
       "      <td>2018-12-06 13:30:00</td>\n",
       "      <td>-55.5</td>\n",
       "      <td>-55.0</td>\n",
       "      <td>-54.0</td>\n",
       "      <td>-54.6</td>\n",
       "    </tr>\n",
       "    <tr>\n",
       "      <th>13</th>\n",
       "      <td>2019-02-06 13:30:00</td>\n",
       "      <td>-49.3</td>\n",
       "      <td>-54.0</td>\n",
       "      <td>-55.5</td>\n",
       "      <td>-55.7</td>\n",
       "    </tr>\n",
       "    <tr>\n",
       "      <th>12</th>\n",
       "      <td>2019-03-06 13:30:00</td>\n",
       "      <td>-59.8</td>\n",
       "      <td>-57.9</td>\n",
       "      <td>-49.3</td>\n",
       "      <td>-50.3</td>\n",
       "    </tr>\n",
       "    <tr>\n",
       "      <th>11</th>\n",
       "      <td>2019-03-27 12:30:00</td>\n",
       "      <td>-51.1</td>\n",
       "      <td>-57.0</td>\n",
       "      <td>-59.8</td>\n",
       "      <td>-59.9</td>\n",
       "    </tr>\n",
       "    <tr>\n",
       "      <th>10</th>\n",
       "      <td>2019-04-17 12:30:00</td>\n",
       "      <td>-49.4</td>\n",
       "      <td>-53.5</td>\n",
       "      <td>-51.1</td>\n",
       "      <td>NaN</td>\n",
       "    </tr>\n",
       "    <tr>\n",
       "      <th>9</th>\n",
       "      <td>2019-05-09 12:30:00</td>\n",
       "      <td>-50.0</td>\n",
       "      <td>-50.2</td>\n",
       "      <td>-49.4</td>\n",
       "      <td>-49.3</td>\n",
       "    </tr>\n",
       "    <tr>\n",
       "      <th>8</th>\n",
       "      <td>2019-06-06 12:30:00</td>\n",
       "      <td>-50.8</td>\n",
       "      <td>-50.7</td>\n",
       "      <td>-50.0</td>\n",
       "      <td>-51.9</td>\n",
       "    </tr>\n",
       "    <tr>\n",
       "      <th>7</th>\n",
       "      <td>2019-07-03 12:30:00</td>\n",
       "      <td>-55.5</td>\n",
       "      <td>-54.0</td>\n",
       "      <td>-50.8</td>\n",
       "      <td>-51.2</td>\n",
       "    </tr>\n",
       "    <tr>\n",
       "      <th>6</th>\n",
       "      <td>2019-08-02 12:30:00</td>\n",
       "      <td>-55.2</td>\n",
       "      <td>-54.6</td>\n",
       "      <td>-55.5</td>\n",
       "      <td>-55.3</td>\n",
       "    </tr>\n",
       "    <tr>\n",
       "      <th>5</th>\n",
       "      <td>2019-09-04 12:30:00</td>\n",
       "      <td>-54.0</td>\n",
       "      <td>-53.5</td>\n",
       "      <td>-55.2</td>\n",
       "      <td>-55.5</td>\n",
       "    </tr>\n",
       "    <tr>\n",
       "      <th>4</th>\n",
       "      <td>2019-10-04 12:30:00</td>\n",
       "      <td>-54.9</td>\n",
       "      <td>-54.5</td>\n",
       "      <td>-54.0</td>\n",
       "      <td>NaN</td>\n",
       "    </tr>\n",
       "    <tr>\n",
       "      <th>3</th>\n",
       "      <td>2019-11-05 13:30:00</td>\n",
       "      <td>-52.5</td>\n",
       "      <td>-52.5</td>\n",
       "      <td>-54.9</td>\n",
       "      <td>-55.0</td>\n",
       "    </tr>\n",
       "    <tr>\n",
       "      <th>2</th>\n",
       "      <td>2019-12-05 13:30:00</td>\n",
       "      <td>-47.2</td>\n",
       "      <td>-48.7</td>\n",
       "      <td>-52.5</td>\n",
       "      <td>-51.1</td>\n",
       "    </tr>\n",
       "    <tr>\n",
       "      <th>1</th>\n",
       "      <td>2020-01-07 13:30:00</td>\n",
       "      <td>-43.1</td>\n",
       "      <td>-43.8</td>\n",
       "      <td>-47.2</td>\n",
       "      <td>-46.9</td>\n",
       "    </tr>\n",
       "    <tr>\n",
       "      <th>0</th>\n",
       "      <td>2020-02-05 13:30:00</td>\n",
       "      <td>-48.9</td>\n",
       "      <td>-48.2</td>\n",
       "      <td>-43.1</td>\n",
       "      <td>-43.7</td>\n",
       "    </tr>\n",
       "  </tbody>\n",
       "</table>\n",
       "</div>"
      ],
      "text/plain": [
       "              DateTime  Actual  Consensus  Previous  Revised\n",
       "23 2018-03-07 13:30:00   -56.6      -55.1     -53.1    -53.9\n",
       "22 2018-04-05 12:30:00   -57.6      -56.8     -56.6    -56.7\n",
       "21 2018-05-03 12:30:00   -49.0      -50.0     -57.6    -57.7\n",
       "20 2018-06-06 12:30:00   -46.2      -49.0     -49.0    -47.2\n",
       "19 2018-07-06 12:30:00   -43.1      -43.7     -46.2    -46.1\n",
       "18 2018-08-03 12:30:00   -46.3      -46.5     -43.1    -43.2\n",
       "17 2018-09-05 12:30:00   -50.1      -50.1     -46.3    -45.7\n",
       "16 2018-10-05 12:30:00   -53.2      -53.5     -50.1    -50.0\n",
       "15 2018-11-02 12:30:00   -54.0      -53.6     -53.2    -53.3\n",
       "14 2018-12-06 13:30:00   -55.5      -55.0     -54.0    -54.6\n",
       "13 2019-02-06 13:30:00   -49.3      -54.0     -55.5    -55.7\n",
       "12 2019-03-06 13:30:00   -59.8      -57.9     -49.3    -50.3\n",
       "11 2019-03-27 12:30:00   -51.1      -57.0     -59.8    -59.9\n",
       "10 2019-04-17 12:30:00   -49.4      -53.5     -51.1      NaN\n",
       "9  2019-05-09 12:30:00   -50.0      -50.2     -49.4    -49.3\n",
       "8  2019-06-06 12:30:00   -50.8      -50.7     -50.0    -51.9\n",
       "7  2019-07-03 12:30:00   -55.5      -54.0     -50.8    -51.2\n",
       "6  2019-08-02 12:30:00   -55.2      -54.6     -55.5    -55.3\n",
       "5  2019-09-04 12:30:00   -54.0      -53.5     -55.2    -55.5\n",
       "4  2019-10-04 12:30:00   -54.9      -54.5     -54.0      NaN\n",
       "3  2019-11-05 13:30:00   -52.5      -52.5     -54.9    -55.0\n",
       "2  2019-12-05 13:30:00   -47.2      -48.7     -52.5    -51.1\n",
       "1  2020-01-07 13:30:00   -43.1      -43.8     -47.2    -46.9\n",
       "0  2020-02-05 13:30:00   -48.9      -48.2     -43.1    -43.7"
      ]
     },
     "execution_count": 3,
     "metadata": {},
     "output_type": "execute_result"
    }
   ],
   "source": [
    "ind = dt.f_leer_archivos(\"Trade Balance - United States.csv\")\n",
    "ind"
   ]
  },
  {
   "cell_type": "code",
   "execution_count": 4,
   "metadata": {},
   "outputs": [
    {
     "data": {
      "text/html": [
       "<div>\n",
       "<style scoped>\n",
       "    .dataframe tbody tr th:only-of-type {\n",
       "        vertical-align: middle;\n",
       "    }\n",
       "\n",
       "    .dataframe tbody tr th {\n",
       "        vertical-align: top;\n",
       "    }\n",
       "\n",
       "    .dataframe thead th {\n",
       "        text-align: right;\n",
       "    }\n",
       "</style>\n",
       "<table border=\"1\" class=\"dataframe\">\n",
       "  <thead>\n",
       "    <tr style=\"text-align: right;\">\n",
       "      <th></th>\n",
       "      <th>timestamp</th>\n",
       "      <th>open</th>\n",
       "      <th>high</th>\n",
       "      <th>low</th>\n",
       "      <th>close</th>\n",
       "      <th>volume</th>\n",
       "    </tr>\n",
       "  </thead>\n",
       "  <tbody>\n",
       "    <tr>\n",
       "      <th>0</th>\n",
       "      <td>2018-01-01 18:00:00</td>\n",
       "      <td>23.590469</td>\n",
       "      <td>23.596036</td>\n",
       "      <td>23.590469</td>\n",
       "      <td>23.596036</td>\n",
       "      <td>61</td>\n",
       "    </tr>\n",
       "    <tr>\n",
       "      <th>1</th>\n",
       "      <td>2018-01-01 18:01:00</td>\n",
       "      <td>23.590469</td>\n",
       "      <td>23.590469</td>\n",
       "      <td>23.590469</td>\n",
       "      <td>23.590469</td>\n",
       "      <td>22</td>\n",
       "    </tr>\n",
       "    <tr>\n",
       "      <th>2</th>\n",
       "      <td>2018-01-01 18:05:00</td>\n",
       "      <td>23.590469</td>\n",
       "      <td>23.590469</td>\n",
       "      <td>23.590469</td>\n",
       "      <td>23.590469</td>\n",
       "      <td>20</td>\n",
       "    </tr>\n",
       "    <tr>\n",
       "      <th>3</th>\n",
       "      <td>2018-01-01 18:07:00</td>\n",
       "      <td>23.584906</td>\n",
       "      <td>23.590469</td>\n",
       "      <td>23.584906</td>\n",
       "      <td>23.590469</td>\n",
       "      <td>12</td>\n",
       "    </tr>\n",
       "    <tr>\n",
       "      <th>4</th>\n",
       "      <td>2018-01-01 18:08:00</td>\n",
       "      <td>23.590469</td>\n",
       "      <td>23.596036</td>\n",
       "      <td>23.590469</td>\n",
       "      <td>23.596036</td>\n",
       "      <td>20</td>\n",
       "    </tr>\n",
       "  </tbody>\n",
       "</table>\n",
       "</div>"
      ],
      "text/plain": [
       "            timestamp       open       high        low      close  volume\n",
       "0 2018-01-01 18:00:00  23.590469  23.596036  23.590469  23.596036      61\n",
       "1 2018-01-01 18:01:00  23.590469  23.590469  23.590469  23.590469      22\n",
       "2 2018-01-01 18:05:00  23.590469  23.590469  23.590469  23.590469      20\n",
       "3 2018-01-01 18:07:00  23.584906  23.590469  23.584906  23.590469      12\n",
       "4 2018-01-01 18:08:00  23.590469  23.596036  23.590469  23.596036      20"
      ]
     },
     "execution_count": 4,
     "metadata": {},
     "output_type": "execute_result"
    }
   ],
   "source": [
    "data = dt.f_leer_archivos_varios(\"MXNUSD_2018.csv\", \"MXNUSD_2019.csv\", \"MXNUSD_2020.csv\")\n",
    "data.head()"
   ]
  },
  {
   "cell_type": "code",
   "execution_count": 5,
   "metadata": {},
   "outputs": [
    {
     "data": {
      "text/plain": [
       "Timestamp('2018-03-07 13:30:00')"
      ]
     },
     "execution_count": 5,
     "metadata": {},
     "output_type": "execute_result"
    }
   ],
   "source": [
    "ind.iloc[0,0]"
   ]
  },
  {
   "cell_type": "code",
   "execution_count": 6,
   "metadata": {},
   "outputs": [
    {
     "data": {
      "text/plain": [
       "Timestamp('2018-01-01 18:00:00')"
      ]
     },
     "execution_count": 6,
     "metadata": {},
     "output_type": "execute_result"
    }
   ],
   "source": [
    "data.iloc[0,0]"
   ]
  },
  {
   "cell_type": "code",
   "execution_count": 7,
   "metadata": {},
   "outputs": [],
   "source": [
    "a = dt.look_at_change(ind, data)\n",
    "# a"
   ]
  },
  {
   "cell_type": "code",
   "execution_count": 8,
   "metadata": {},
   "outputs": [
    {
     "data": {
      "text/html": [
       "<div>\n",
       "<style scoped>\n",
       "    .dataframe tbody tr th:only-of-type {\n",
       "        vertical-align: middle;\n",
       "    }\n",
       "\n",
       "    .dataframe tbody tr th {\n",
       "        vertical-align: top;\n",
       "    }\n",
       "\n",
       "    .dataframe thead th {\n",
       "        text-align: right;\n",
       "    }\n",
       "</style>\n",
       "<table border=\"1\" class=\"dataframe\">\n",
       "  <thead>\n",
       "    <tr style=\"text-align: right;\">\n",
       "      <th></th>\n",
       "      <th>timestamp</th>\n",
       "      <th>open</th>\n",
       "      <th>high</th>\n",
       "      <th>low</th>\n",
       "      <th>close</th>\n",
       "      <th>volume</th>\n",
       "    </tr>\n",
       "  </thead>\n",
       "  <tbody>\n",
       "    <tr>\n",
       "      <th>45493</th>\n",
       "      <td>2018-03-07 13:00:00</td>\n",
       "      <td>22.055580</td>\n",
       "      <td>22.060446</td>\n",
       "      <td>22.055580</td>\n",
       "      <td>22.055580</td>\n",
       "      <td>95</td>\n",
       "    </tr>\n",
       "    <tr>\n",
       "      <th>45494</th>\n",
       "      <td>2018-03-07 13:01:00</td>\n",
       "      <td>22.055580</td>\n",
       "      <td>22.065313</td>\n",
       "      <td>22.055580</td>\n",
       "      <td>22.065313</td>\n",
       "      <td>131</td>\n",
       "    </tr>\n",
       "    <tr>\n",
       "      <th>45495</th>\n",
       "      <td>2018-03-07 13:02:00</td>\n",
       "      <td>22.065313</td>\n",
       "      <td>22.070183</td>\n",
       "      <td>22.065313</td>\n",
       "      <td>22.070183</td>\n",
       "      <td>32</td>\n",
       "    </tr>\n",
       "    <tr>\n",
       "      <th>45496</th>\n",
       "      <td>2018-03-07 13:03:00</td>\n",
       "      <td>22.070183</td>\n",
       "      <td>22.075055</td>\n",
       "      <td>22.070183</td>\n",
       "      <td>22.070183</td>\n",
       "      <td>18</td>\n",
       "    </tr>\n",
       "    <tr>\n",
       "      <th>45497</th>\n",
       "      <td>2018-03-07 13:04:00</td>\n",
       "      <td>22.070183</td>\n",
       "      <td>22.075055</td>\n",
       "      <td>22.070183</td>\n",
       "      <td>22.075055</td>\n",
       "      <td>54</td>\n",
       "    </tr>\n",
       "    <tr>\n",
       "      <th>...</th>\n",
       "      <td>...</td>\n",
       "      <td>...</td>\n",
       "      <td>...</td>\n",
       "      <td>...</td>\n",
       "      <td>...</td>\n",
       "      <td>...</td>\n",
       "    </tr>\n",
       "    <tr>\n",
       "      <th>45549</th>\n",
       "      <td>2018-03-07 13:56:00</td>\n",
       "      <td>22.021581</td>\n",
       "      <td>22.021581</td>\n",
       "      <td>22.021581</td>\n",
       "      <td>22.021581</td>\n",
       "      <td>8</td>\n",
       "    </tr>\n",
       "    <tr>\n",
       "      <th>45550</th>\n",
       "      <td>2018-03-07 13:57:00</td>\n",
       "      <td>22.021581</td>\n",
       "      <td>22.021581</td>\n",
       "      <td>22.021581</td>\n",
       "      <td>22.021581</td>\n",
       "      <td>89</td>\n",
       "    </tr>\n",
       "    <tr>\n",
       "      <th>45551</th>\n",
       "      <td>2018-03-07 13:58:00</td>\n",
       "      <td>22.021581</td>\n",
       "      <td>22.021581</td>\n",
       "      <td>22.016733</td>\n",
       "      <td>22.016733</td>\n",
       "      <td>45</td>\n",
       "    </tr>\n",
       "    <tr>\n",
       "      <th>45552</th>\n",
       "      <td>2018-03-07 13:59:00</td>\n",
       "      <td>22.016733</td>\n",
       "      <td>22.016733</td>\n",
       "      <td>22.016733</td>\n",
       "      <td>22.016733</td>\n",
       "      <td>8</td>\n",
       "    </tr>\n",
       "    <tr>\n",
       "      <th>45553</th>\n",
       "      <td>2018-03-07 14:00:00</td>\n",
       "      <td>22.011886</td>\n",
       "      <td>22.016733</td>\n",
       "      <td>22.011886</td>\n",
       "      <td>22.016733</td>\n",
       "      <td>71</td>\n",
       "    </tr>\n",
       "  </tbody>\n",
       "</table>\n",
       "<p>61 rows × 6 columns</p>\n",
       "</div>"
      ],
      "text/plain": [
       "                timestamp       open       high        low      close  volume\n",
       "45493 2018-03-07 13:00:00  22.055580  22.060446  22.055580  22.055580      95\n",
       "45494 2018-03-07 13:01:00  22.055580  22.065313  22.055580  22.065313     131\n",
       "45495 2018-03-07 13:02:00  22.065313  22.070183  22.065313  22.070183      32\n",
       "45496 2018-03-07 13:03:00  22.070183  22.075055  22.070183  22.070183      18\n",
       "45497 2018-03-07 13:04:00  22.070183  22.075055  22.070183  22.075055      54\n",
       "...                   ...        ...        ...        ...        ...     ...\n",
       "45549 2018-03-07 13:56:00  22.021581  22.021581  22.021581  22.021581       8\n",
       "45550 2018-03-07 13:57:00  22.021581  22.021581  22.021581  22.021581      89\n",
       "45551 2018-03-07 13:58:00  22.021581  22.021581  22.016733  22.016733      45\n",
       "45552 2018-03-07 13:59:00  22.016733  22.016733  22.016733  22.016733       8\n",
       "45553 2018-03-07 14:00:00  22.011886  22.016733  22.011886  22.016733      71\n",
       "\n",
       "[61 rows x 6 columns]"
      ]
     },
     "execution_count": 8,
     "metadata": {},
     "output_type": "execute_result"
    }
   ],
   "source": [
    "a[list(a.keys())[0]]"
   ]
  },
  {
   "cell_type": "markdown",
   "metadata": {},
   "source": [
    "# <font color= darkblue> 4. A particular Process  </font>"
   ]
  },
  {
   "cell_type": "markdown",
   "metadata": {},
   "source": [
    "<hr style=\"border:0.01in solid #FF8C00\"> </hr>"
   ]
  },
  {
   "cell_type": "markdown",
   "metadata": {},
   "source": [
    "## <font color= #7FB3D5> Etapa 2: Datos Históricos </font>"
   ]
  },
  {
   "cell_type": "markdown",
   "metadata": {},
   "source": [
    "### <font color= #4682B4> Aspectos financieros </font>"
   ]
  },
  {
   "cell_type": "markdown",
   "metadata": {},
   "source": [
    "La balanza comercial es un indicador económico que se obtiene de los datos sobre exportación e importación de bienes de consumo, es decir, los pagos al exterior del país y cobros desde dicho exterior.\n",
    "\n",
    "La balanza comercial se puede expresar de dos maneras. Positiva: Cuando se exporta mayor cantidad de bienes y servicios de los que se importan, lo cual se denomina superávit comercial. Negativa: Cuando el valor de las exportaciones es menor que el de las importaciones, déficit comercial."
   ]
  },
  {
   "cell_type": "code",
   "execution_count": 9,
   "metadata": {},
   "outputs": [
    {
     "data": {
      "image/png": "[encoded data removed]",
      "text/plain": [
       "<Figure size 432x288 with 1 Axes>"
      ]
     },
     "metadata": {
      "needs_background": "light"
     },
     "output_type": "display_data"
    }
   ],
   "source": [
    "graf_ind = vs.graf_ind(ind)"
   ]
  },
  {
   "cell_type": "markdown",
   "metadata": {},
   "source": [
    "En los siguientes momentos el número se acerca más a ser cero. Lo que se busca es que las exportaciones sean mayores que las importaciones, es por esto que mientras un valor sea positivo o más cercano a eso será bueno."
   ]
  },
  {
   "cell_type": "code",
   "execution_count": 10,
   "metadata": {},
   "outputs": [
    {
     "data": {
      "text/plain": [
       "Timestamp('2018-06-06 12:30:00')"
      ]
     },
     "execution_count": 10,
     "metadata": {},
     "output_type": "execute_result"
    }
   ],
   "source": [
    "ind.DateTime[20]"
   ]
  },
  {
   "cell_type": "code",
   "execution_count": 11,
   "metadata": {},
   "outputs": [
    {
     "data": {
      "text/plain": [
       "Timestamp('2019-03-06 13:30:00')"
      ]
     },
     "execution_count": 11,
     "metadata": {},
     "output_type": "execute_result"
    }
   ],
   "source": [
    "ind.DateTime[12]"
   ]
  },
  {
   "cell_type": "code",
   "execution_count": 12,
   "metadata": {},
   "outputs": [
    {
     "data": {
      "text/plain": [
       "Timestamp('2019-03-27 12:30:00')"
      ]
     },
     "execution_count": 12,
     "metadata": {},
     "output_type": "execute_result"
    }
   ],
   "source": [
    "ind.DateTime[11]"
   ]
  },
  {
   "cell_type": "code",
   "execution_count": 13,
   "metadata": {},
   "outputs": [
    {
     "data": {
      "text/plain": [
       "Timestamp('2019-09-04 12:30:00')"
      ]
     },
     "execution_count": 13,
     "metadata": {},
     "output_type": "execute_result"
    }
   ],
   "source": [
    "ind.DateTime[5]"
   ]
  },
  {
   "cell_type": "code",
   "execution_count": 14,
   "metadata": {},
   "outputs": [
    {
     "data": {
      "text/plain": [
       "Timestamp('2019-12-05 13:30:00')"
      ]
     },
     "execution_count": 14,
     "metadata": {},
     "output_type": "execute_result"
    }
   ],
   "source": [
    "ind.DateTime[2]"
   ]
  },
  {
   "cell_type": "markdown",
   "metadata": {},
   "source": [
    "### <font color= #4682B4> Aspectos estadísticos </font>"
   ]
  },
  {
   "cell_type": "code",
   "execution_count": null,
   "metadata": {},
   "outputs": [],
   "source": []
  },
  {
   "cell_type": "markdown",
   "metadata": {},
   "source": [
    "### <font color= #4682B4> Aspectos computacionales </font>"
   ]
  },
  {
   "cell_type": "code",
   "execution_count": null,
   "metadata": {},
   "outputs": [],
   "source": []
  },
  {
   "cell_type": "markdown",
   "metadata": {},
   "source": [
    "## <font color= #7FB3D5> Etapa 3: Programación </font>"
   ]
  },
  {
   "cell_type": "markdown",
   "metadata": {},
   "source": [
    "Este proyecto aporta para la programación de la sistema de trading y garantiza la estructura de proyectos de python utilizada en laboratorios anteriores."
   ]
  },
  {
   "cell_type": "markdown",
   "metadata": {},
   "source": [
    "## <font color= #7FB3D5> Etapa 4: Optimización y Backtest </font>"
   ]
  },
  {
   "cell_type": "markdown",
   "metadata": {},
   "source": [
    "Para la última etapa se necesita:\n",
    "- Capital inicial: $100,000 $\n",
    "- Riesgo máximo por operación (pérdida máximo): $1,000 $ usd\n",
    "- Divide los datos de la siguiente manera:  \n",
    " * Periodo de entrenamiento: 01/ene/2018 - 01/ene/2019 \n",
    " * Periodo de prueba: 01/Feb/2019 - 01/Feb/2020"
   ]
  },
  {
   "cell_type": "code",
   "execution_count": 15,
   "metadata": {},
   "outputs": [],
   "source": [
    "cap_inicial = 100000\n",
    "max_loss = 1000\n"
   ]
  },
  {
   "cell_type": "code",
   "execution_count": null,
   "metadata": {},
   "outputs": [],
   "source": []
  },
  {
   "cell_type": "code",
   "execution_count": null,
   "metadata": {},
   "outputs": [],
   "source": []
  },
  {
   "cell_type": "markdown",
   "metadata": {},
   "source": [
    "<br>"
   ]
  },
  {
   "cell_type": "markdown",
   "metadata": {},
   "source": [
    "# <font color= darkblue> 6. Results </font>"
   ]
  },
  {
   "cell_type": "markdown",
   "metadata": {},
   "source": [
    "<hr style=\"border:0.01in solid #FF8C00\"> </hr>"
   ]
  },
  {
   "cell_type": "code",
   "execution_count": 16,
   "metadata": {},
   "outputs": [],
   "source": [
    "# DELETE THIS CELL IN YOUR FILE\n",
    "\n",
    "# In here you present the general results, and also, a discussion of such results."
   ]
  },
  {
   "cell_type": "markdown",
   "metadata": {},
   "source": [
    "<br>"
   ]
  },
  {
   "cell_type": "markdown",
   "metadata": {},
   "source": [
    "# <font color= darkblue> 7. References </font>"
   ]
  },
  {
   "cell_type": "markdown",
   "metadata": {},
   "source": [
    "<hr style=\"border:0.01in solid #FF8C00\"> </hr>"
   ]
  },
  {
   "cell_type": "markdown",
   "metadata": {},
   "source": [
    "[1] Munnoz, 2020. Python project template. https://github.com/iffranciscome/python-project. (2021)."
   ]
  },
  {
   "cell_type": "markdown",
   "metadata": {},
   "source": [
    "</br>"
   ]
  }
 ],
 "metadata": {
  "kernelspec": {
   "display_name": "Python 3 (ipykernel)",
   "language": "python",
   "name": "python3"
  },
  "language_info": {
   "codemirror_mode": {
    "name": "ipython",
    "version": 3
   },
   "file_extension": ".py",
   "mimetype": "text/x-python",
   "name": "python",
   "nbconvert_exporter": "python",
   "pygments_lexer": "ipython3",
   "version": "3.8.8"
  }
 },
 "nbformat": 4,
 "nbformat_minor": 4
}
